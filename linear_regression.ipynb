{
 "cells": [
  {
   "cell_type": "markdown",
   "id": "c21d7e59",
   "metadata": {},
   "source": [
    "# Import"
   ]
  },
  {
   "cell_type": "code",
   "execution_count": 1,
   "id": "3a305ef6",
   "metadata": {
    "ExecuteTime": {
     "end_time": "2022-09-16T12:11:38.541378Z",
     "start_time": "2022-09-16T12:11:36.668172Z"
    }
   },
   "outputs": [],
   "source": [
    "import pandas as pd\n",
    "import numpy as np\n",
    "import seaborn as sns\n",
    "import matplotlib.pyplot as plt\n",
    "from sklearn.linear_model import LinearRegression\n",
    "from sklearn.metrics import mean_squared_error\n"
   ]
  },
  {
   "cell_type": "markdown",
   "id": "aaf129bd",
   "metadata": {},
   "source": [
    "# Data gathering"
   ]
  },
  {
   "cell_type": "code",
   "execution_count": 16,
   "id": "5a568784",
   "metadata": {
    "ExecuteTime": {
     "end_time": "2022-09-16T12:18:31.119407Z",
     "start_time": "2022-09-16T12:18:31.077865Z"
    }
   },
   "outputs": [],
   "source": [
    "diamonds = pd.read_csv('data/diamonds.csv', sep = ',')\n",
    "diamonds_rick = pd.read_csv('data/rick_diamonds.csv', sep = ',')\n",
    "diamonds_rick_predicted = diamonds_rick"
   ]
  },
  {
   "cell_type": "markdown",
   "id": "790102f4",
   "metadata": {},
   "source": [
    "## Data Visualization"
   ]
  },
  {
   "cell_type": "code",
   "execution_count": 3,
   "id": "1f2c6be5",
   "metadata": {
    "ExecuteTime": {
     "end_time": "2022-09-16T12:11:41.350441Z",
     "start_time": "2022-09-16T12:11:41.326419Z"
    }
   },
   "outputs": [
    {
     "name": "stdout",
     "output_type": "stream",
     "text": [
      "(48940, 10)\n",
      "   carat        cut color clarity  depth  table  price     x     y     z\n",
      "0   0.21    Premium     E     SI1   59.8   61.0    326  3.89  3.84  2.31\n",
      "1   0.23       Good     E     VS1   56.9   65.0    327  4.05  4.07  2.31\n",
      "2   0.29    Premium     I     VS2   62.4   58.0    334  4.20  4.23  2.63\n",
      "3   0.31       Good     J     SI2   63.3   58.0    335  4.34  4.35  2.75\n",
      "4   0.24  Very Good     J    VVS2   62.8   57.0    336  3.94  3.96  2.48\n"
     ]
    },
    {
     "data": {
      "text/plain": [
       "count    48940.000000\n",
       "mean      3934.409644\n",
       "std       3989.333861\n",
       "min        326.000000\n",
       "25%        949.000000\n",
       "50%       2401.000000\n",
       "75%       5331.250000\n",
       "max      18823.000000\n",
       "Name: price, dtype: float64"
      ]
     },
     "execution_count": 3,
     "metadata": {},
     "output_type": "execute_result"
    }
   ],
   "source": [
    "print(diamonds.shape)\n",
    "print(diamonds.head())\n",
    "diamonds['price'].describe()"
   ]
  },
  {
   "cell_type": "code",
   "execution_count": 4,
   "id": "87227472",
   "metadata": {
    "ExecuteTime": {
     "end_time": "2022-09-16T12:11:44.183013Z",
     "start_time": "2022-09-16T12:11:44.161994Z"
    }
   },
   "outputs": [
    {
     "data": {
      "text/html": [
       "<div>\n",
       "<style scoped>\n",
       "    .dataframe tbody tr th:only-of-type {\n",
       "        vertical-align: middle;\n",
       "    }\n",
       "\n",
       "    .dataframe tbody tr th {\n",
       "        vertical-align: top;\n",
       "    }\n",
       "\n",
       "    .dataframe thead th {\n",
       "        text-align: right;\n",
       "    }\n",
       "</style>\n",
       "<table border=\"1\" class=\"dataframe\">\n",
       "  <thead>\n",
       "    <tr style=\"text-align: right;\">\n",
       "      <th></th>\n",
       "      <th>carat</th>\n",
       "      <th>cut</th>\n",
       "      <th>color</th>\n",
       "      <th>clarity</th>\n",
       "      <th>depth</th>\n",
       "      <th>table</th>\n",
       "      <th>x</th>\n",
       "      <th>y</th>\n",
       "      <th>z</th>\n",
       "    </tr>\n",
       "  </thead>\n",
       "  <tbody>\n",
       "    <tr>\n",
       "      <th>0</th>\n",
       "      <td>0.91</td>\n",
       "      <td>Very Good</td>\n",
       "      <td>H</td>\n",
       "      <td>SI2</td>\n",
       "      <td>63.4</td>\n",
       "      <td>57.0</td>\n",
       "      <td>6.10</td>\n",
       "      <td>6.18</td>\n",
       "      <td>3.89</td>\n",
       "    </tr>\n",
       "    <tr>\n",
       "      <th>1</th>\n",
       "      <td>0.38</td>\n",
       "      <td>Good</td>\n",
       "      <td>F</td>\n",
       "      <td>VS2</td>\n",
       "      <td>60.3</td>\n",
       "      <td>61.0</td>\n",
       "      <td>4.68</td>\n",
       "      <td>4.71</td>\n",
       "      <td>2.83</td>\n",
       "    </tr>\n",
       "    <tr>\n",
       "      <th>2</th>\n",
       "      <td>0.52</td>\n",
       "      <td>Ideal</td>\n",
       "      <td>H</td>\n",
       "      <td>VS2</td>\n",
       "      <td>61.8</td>\n",
       "      <td>56.0</td>\n",
       "      <td>5.19</td>\n",
       "      <td>5.16</td>\n",
       "      <td>3.20</td>\n",
       "    </tr>\n",
       "    <tr>\n",
       "      <th>3</th>\n",
       "      <td>1.10</td>\n",
       "      <td>Ideal</td>\n",
       "      <td>G</td>\n",
       "      <td>VS1</td>\n",
       "      <td>61.3</td>\n",
       "      <td>56.0</td>\n",
       "      <td>6.65</td>\n",
       "      <td>6.69</td>\n",
       "      <td>4.09</td>\n",
       "    </tr>\n",
       "    <tr>\n",
       "      <th>4</th>\n",
       "      <td>2.28</td>\n",
       "      <td>Ideal</td>\n",
       "      <td>G</td>\n",
       "      <td>SI2</td>\n",
       "      <td>61.6</td>\n",
       "      <td>57.0</td>\n",
       "      <td>8.44</td>\n",
       "      <td>8.37</td>\n",
       "      <td>5.18</td>\n",
       "    </tr>\n",
       "  </tbody>\n",
       "</table>\n",
       "</div>"
      ],
      "text/plain": [
       "   carat        cut color clarity  depth  table     x     y     z\n",
       "0   0.91  Very Good     H     SI2   63.4   57.0  6.10  6.18  3.89\n",
       "1   0.38       Good     F     VS2   60.3   61.0  4.68  4.71  2.83\n",
       "2   0.52      Ideal     H     VS2   61.8   56.0  5.19  5.16  3.20\n",
       "3   1.10      Ideal     G     VS1   61.3   56.0  6.65  6.69  4.09\n",
       "4   2.28      Ideal     G     SI2   61.6   57.0  8.44  8.37  5.18"
      ]
     },
     "execution_count": 4,
     "metadata": {},
     "output_type": "execute_result"
    }
   ],
   "source": [
    "diamonds_rick.head()"
   ]
  },
  {
   "cell_type": "code",
   "execution_count": 5,
   "id": "3e099796",
   "metadata": {
    "ExecuteTime": {
     "end_time": "2022-09-16T12:11:46.812905Z",
     "start_time": "2022-09-16T12:11:46.226373Z"
    }
   },
   "outputs": [
    {
     "name": "stderr",
     "output_type": "stream",
     "text": [
      "C:\\Users\\Botelho\\anaconda3\\lib\\site-packages\\seaborn\\distributions.py:2619: FutureWarning: `distplot` is a deprecated function and will be removed in a future version. Please adapt your code to use either `displot` (a figure-level function with similar flexibility) or `histplot` (an axes-level function for histograms).\n",
      "  warnings.warn(msg, FutureWarning)\n"
     ]
    },
    {
     "data": {
      "text/plain": [
       "<AxesSubplot:xlabel='price', ylabel='Density'>"
      ]
     },
     "execution_count": 5,
     "metadata": {},
     "output_type": "execute_result"
    },
    {
     "data": {
      "image/png": "[encoded data removed]",
      "text/plain": [
       "<Figure size 432x288 with 1 Axes>"
      ]
     },
     "metadata": {
      "needs_background": "light"
     },
     "output_type": "display_data"
    }
   ],
   "source": [
    "sns.distplot(diamonds['price'])"
   ]
  },
  {
   "cell_type": "markdown",
   "id": "3128027c",
   "metadata": {},
   "source": [
    "# Price prediction"
   ]
  },
  {
   "cell_type": "code",
   "execution_count": 17,
   "id": "eabbc4d6",
   "metadata": {
    "ExecuteTime": {
     "end_time": "2022-09-16T12:19:19.714094Z",
     "start_time": "2022-09-16T12:19:19.697079Z"
    }
   },
   "outputs": [
    {
     "data": {
      "text/plain": [
       "array([4804.87933349,  692.42236197, 1778.73175068, ..., 5580.81461113,\n",
       "        149.26766762,  304.45472315])"
      ]
     },
     "execution_count": 17,
     "metadata": {},
     "output_type": "execute_result"
    }
   ],
   "source": [
    "model = LinearRegression()\n",
    "X = diamonds[['carat']]\n",
    "y = diamonds['price']\n",
    "model.fit(X,y)\n",
    "X_rick = diamonds_rick[['carat']]\n",
    "y_pred = model.predict(X_rick)\n",
    "y_pred"
   ]
  },
  {
   "cell_type": "markdown",
   "id": "0228168d",
   "metadata": {},
   "source": [
    "# Saving the csv"
   ]
  },
  {
   "cell_type": "code",
   "execution_count": 19,
   "id": "e1006a3c",
   "metadata": {
    "ExecuteTime": {
     "end_time": "2022-09-16T12:19:38.060267Z",
     "start_time": "2022-09-16T12:19:38.028238Z"
    }
   },
   "outputs": [],
   "source": [
    "diamonds_rick_predicted['price_predicted'] = y_pred\n",
    "diamonds_rick_predicted.to_csv('diamonds_rick_predicted.csv')"
   ]
  },
  {
   "cell_type": "markdown",
   "id": "0767026a",
   "metadata": {},
   "source": [
    "# Notes"
   ]
  },
  {
   "cell_type": "markdown",
   "id": "c56e55ca",
   "metadata": {},
   "source": [
    "## Price predicted"
   ]
  },
  {
   "cell_type": "markdown",
   "id": "bebe2174",
   "metadata": {},
   "source": [
    "1 - Price predicted as the mean of prices from diamonds.csv(3980)\n",
    "2 - Price predicted using carat as the only variable from diamonds.csv(1605)"
   ]
  }
 ],
 "metadata": {
  "kernelspec": {
   "display_name": "Python 3 (ipykernel)",
   "language": "python",
   "name": "python3"
  },
  "language_info": {
   "codemirror_mode": {
    "name": "ipython",
    "version": 3
   },
   "file_extension": ".py",
   "mimetype": "text/x-python",
   "name": "python",
   "nbconvert_exporter": "python",
   "pygments_lexer": "ipython3",
   "version": "3.9.12"
  },
  "toc": {
   "base_numbering": 1,
   "nav_menu": {},
   "number_sections": true,
   "sideBar": true,
   "skip_h1_title": false,
   "title_cell": "Table of Contents",
   "title_sidebar": "Contents",
   "toc_cell": false,
   "toc_position": {},
   "toc_section_display": true,
   "toc_window_display": false
  },
  "varInspector": {
   "cols": {
    "lenName": 16,
    "lenType": 16,
    "lenVar": 40
   },
   "kernels_config": {
    "python": {
     "delete_cmd_postfix": "",
     "delete_cmd_prefix": "del ",
     "library": "var_list.py",
     "varRefreshCmd": "print(var_dic_list())"
    },
    "r": {
     "delete_cmd_postfix": ") ",
     "delete_cmd_prefix": "rm(",
     "library": "var_list.r",
     "varRefreshCmd": "cat(var_dic_list()) "
    }
   },
   "types_to_exclude": [
    "module",
    "function",
    "builtin_function_or_method",
    "instance",
    "_Feature"
   ],
   "window_display": false
  }
 },
 "nbformat": 4,
 "nbformat_minor": 5
}
